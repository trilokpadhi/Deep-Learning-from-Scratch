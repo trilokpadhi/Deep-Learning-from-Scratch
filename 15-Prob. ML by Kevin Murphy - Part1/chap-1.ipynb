{
 "cells": [
  {
   "cell_type": "markdown",
   "metadata": {},
   "source": [
    "A computer program is said to learn from experience E with respect to some class of tasks T, and performance measure P, if its performance at tasks in T, as measured by P, improves with experience E. \n",
    "\n",
    "Thus there are many different kinds of machine learning, depending on \n",
    "- the nature of the tasks T we wish the system to learn, \n",
    "- the nature of the performance measure P we use to evaluate the system, \n",
    "- and the nature of the training signal or experience E we give it\n",
    "\n",
    "In this book, we will cover the most common types of ML, but from a probabilistic perspective. Roughly speaking, this means that we treat all unknown quantities (e.g., predictions about the future value of some quantity of interest, such as tomorrow’s temperature, or the parameters of some model) as random variables, that are endowed with probability distributions which describe a weighted set of possible values the variable may have.\n",
    "\n",
    "There are two main reasons we adopt a probabilistic approach. \n",
    "- First, it is the optimal approach to decision making under uncertainty. \n",
    "- Second, probabilistic modeling is the language used by most other areas of science and engineering, and thus provides a unifying framework between these fields."
   ]
  },
  {
   "cell_type": "code",
   "execution_count": 1,
   "metadata": {},
   "outputs": [
    {
     "ename": "ModuleNotFoundError",
     "evalue": "No module named 'numpy'",
     "output_type": "error",
     "traceback": [
      "\u001b[0;31m---------------------------------------------------------------------------\u001b[0m",
      "\u001b[0;31mModuleNotFoundError\u001b[0m                       Traceback (most recent call last)",
      "Cell \u001b[0;32mIn[1], line 1\u001b[0m\n\u001b[0;32m----> 1\u001b[0m \u001b[38;5;28;01mimport\u001b[39;00m \u001b[38;5;21;01mnumpy\u001b[39;00m \u001b[38;5;28;01mas\u001b[39;00m \u001b[38;5;21;01mnp\u001b[39;00m\n\u001b[1;32m      2\u001b[0m \u001b[38;5;28;01mimport\u001b[39;00m \u001b[38;5;21;01mmatplotlib\u001b[39;00m\u001b[38;5;21;01m.\u001b[39;00m\u001b[38;5;21;01mpyplot\u001b[39;00m \u001b[38;5;28;01mas\u001b[39;00m \u001b[38;5;21;01mplt\u001b[39;00m\n\u001b[1;32m      3\u001b[0m \u001b[38;5;28;01mimport\u001b[39;00m \u001b[38;5;21;01mos\u001b[39;00m\n",
      "\u001b[0;31mModuleNotFoundError\u001b[0m: No module named 'numpy'"
     ]
    }
   ],
   "source": [
    "import numpy as np\n",
    "import matplotlib.pyplot as plt\n",
    "import os\n",
    "try:\n",
    "    import probml_utils as pml\n",
    "except ModuleNotFoundError:\n",
    "    %pip install -qq git+https://github.com/probml/probml-utils.git\n",
    "    import probml_utils as pml\n",
    "import seaborn as sns;\n",
    "sns.set(style=\"ticks\", color_codes=True)\n",
    "\n",
    "from sklearn.datasets import load_iris\n",
    "iris = load_iris()\n",
    "\n",
    "# Extract numpy arrays\n",
    "X = iris.data \n",
    "y = iris.target\n",
    "\n",
    "# Convert to pandas dataframe \n",
    "df = pd.DataFrame(data=X, columns=iris.feature_names)\n",
    "df['label'] = pd.Series(iris.target_names[y], dtype='category')\n",
    "\n",
    "# we pick a color map to match that used by decision tree graphviz \n",
    "#cmap = ListedColormap(['#fafab0','#a0faa0', '#9898ff']) # orange, green, blue/purple\n",
    "#cmap = ListedColormap(['orange', 'green', 'purple']) \n",
    "palette = {'setosa': 'orange', 'versicolor': 'green', 'virginica': 'purple'}\n",
    "\n",
    "g = sns.pairplot(df, vars = df.columns[0:4], hue=\"label\", palette=palette)\n",
    "#g = sns.pairplot(df, vars = df.columns[0:4], hue=\"label\")\n",
    "pml.savefig('iris_scatterplot_purple.pdf')\n",
    "plt.show()\n",
    "\n",
    "\n",
    "# Change colum names\n",
    "iris_df = df.copy()\n",
    "iris_df.columns =  ['sl', 'sw', 'pl', 'pw'] + ['label'] \n",
    "\n",
    "g = sns.pairplot(iris_df, vars = iris_df.columns[0:4], hue=\"label\")\n",
    "plt.tight_layout()\n",
    "pml.savefig('iris_pairplot.pdf')\n",
    "plt.show()\n",
    "\n",
    "\n",
    "sns.stripplot(x=\"label\", y=\"sl\", data=iris_df, jitter=True)\n",
    "pml.savefig('iris_sepal_length_strip_plot.pdf')\n",
    "plt.show()"
   ]
  },
  {
   "cell_type": "code",
   "execution_count": null,
   "metadata": {},
   "outputs": [],
   "source": []
  }
 ],
 "metadata": {
  "kernelspec": {
   "display_name": "Python 3",
   "language": "python",
   "name": "python3"
  },
  "language_info": {
   "codemirror_mode": {
    "name": "ipython",
    "version": 3
   },
   "file_extension": ".py",
   "mimetype": "text/x-python",
   "name": "python",
   "nbconvert_exporter": "python",
   "pygments_lexer": "ipython3",
   "version": "3.11.9"
  }
 },
 "nbformat": 4,
 "nbformat_minor": 2
}
